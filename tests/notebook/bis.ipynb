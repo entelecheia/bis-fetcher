{
 "cells": [
  {
   "cell_type": "code",
   "execution_count": 1,
   "metadata": {},
   "outputs": [
    {
     "name": "stdout",
     "output_type": "stream",
     "text": [
      "https://www.bis.org/cbspeeches/index.htm?m=256&cbspeeches_page=1&search={keyword}\n"
     ]
    }
   ],
   "source": [
    "search_url: str = \"https://www.bis.org/cbspeeches/index.htm?m=256&cbspeeches_page={page}&search={keyword}\"\n",
    "if \"{page}\" in search_url:\n",
    "    search_url = search_url.replace(\"{page}\", str(1))\n",
    "\n",
    "print(search_url)"
   ]
  },
  {
   "cell_type": "code",
   "execution_count": null,
   "metadata": {},
   "outputs": [],
   "source": []
  }
 ],
 "metadata": {
  "kernelspec": {
   "display_name": "bis-fetcher",
   "language": "python",
   "name": "python3"
  },
  "language_info": {
   "codemirror_mode": {
    "name": "ipython",
    "version": 3
   },
   "file_extension": ".py",
   "mimetype": "text/x-python",
   "name": "python",
   "nbconvert_exporter": "python",
   "pygments_lexer": "ipython3",
   "version": "3.8.10"
  }
 },
 "nbformat": 4,
 "nbformat_minor": 2
}
