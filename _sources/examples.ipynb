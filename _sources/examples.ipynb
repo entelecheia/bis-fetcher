{
 "cells": [
  {
   "cell_type": "markdown",
   "id": "6fd7b54b",
   "metadata": {},
   "source": [
    "# Examples\n",
    "\n",
    "This page contains a few examples of how you can use BIS Fetcher package.\n",
    "\n",
    "## Installation\n",
    "\n",
    "You can install BIS Fetcher using `pip`:"
   ]
  },
  {
   "cell_type": "code",
   "execution_count": 1,
   "id": "32ea3205",
   "metadata": {},
   "outputs": [
    {
     "name": "stdout",
     "output_type": "stream",
     "text": [
      "Requirement already satisfied: bis-fetcher in /opt/hostedtoolcache/Python/3.9.18/x64/lib/python3.9/site-packages (0.6.0)\r\n",
      "Requirement already satisfied: click<9.0.0,>=8.1.3 in /opt/hostedtoolcache/Python/3.9.18/x64/lib/python3.9/site-packages (from bis-fetcher) (8.1.7)\r\n",
      "Requirement already satisfied: hyfi<2.0.0,>=1.34.0 in /opt/hostedtoolcache/Python/3.9.18/x64/lib/python3.9/site-packages (from bis-fetcher) (1.35.1)\r\n",
      "Requirement already satisfied: selenium<5.0.0,>=4.15.2 in /opt/hostedtoolcache/Python/3.9.18/x64/lib/python3.9/site-packages (from bis-fetcher) (4.18.0)\r\n"
     ]
    },
    {
     "name": "stdout",
     "output_type": "stream",
     "text": [
      "Requirement already satisfied: chardet<=5.2.0 in /opt/hostedtoolcache/Python/3.9.18/x64/lib/python3.9/site-packages (from hyfi<2.0.0,>=1.34.0->bis-fetcher) (5.2.0)\r\n",
      "Requirement already satisfied: colorama<0.5.0,>=0.4.3 in /opt/hostedtoolcache/Python/3.9.18/x64/lib/python3.9/site-packages (from hyfi<2.0.0,>=1.34.0->bis-fetcher) (0.4.6)\r\n",
      "Requirement already satisfied: datasets<=2.15.0,>=2.0.0 in /opt/hostedtoolcache/Python/3.9.18/x64/lib/python3.9/site-packages (from hyfi<2.0.0,>=1.34.0->bis-fetcher) (2.15.0)\r\n",
      "Requirement already satisfied: filelock<=3.13.1,>=3.4 in /opt/hostedtoolcache/Python/3.9.18/x64/lib/python3.9/site-packages (from hyfi<2.0.0,>=1.34.0->bis-fetcher) (3.13.1)\r\n",
      "Requirement already satisfied: gdown<=4.7.1 in /opt/hostedtoolcache/Python/3.9.18/x64/lib/python3.9/site-packages (from hyfi<2.0.0,>=1.34.0->bis-fetcher) (4.7.1)\r\n",
      "Requirement already satisfied: huggingface-hub<=0.19.4,>=0.8.1 in /opt/hostedtoolcache/Python/3.9.18/x64/lib/python3.9/site-packages (from hyfi<2.0.0,>=1.34.0->bis-fetcher) (0.19.4)\r\n",
      "Requirement already satisfied: hydra-colorlog<2.0.0,>=1.2.0 in /opt/hostedtoolcache/Python/3.9.18/x64/lib/python3.9/site-packages (from hyfi<2.0.0,>=1.34.0->bis-fetcher) (1.2.0)\r\n",
      "Requirement already satisfied: hydra-core<2.0.0,>=1.3.2 in /opt/hostedtoolcache/Python/3.9.18/x64/lib/python3.9/site-packages (from hyfi<2.0.0,>=1.34.0->bis-fetcher) (1.3.2)\r\n",
      "Requirement already satisfied: joblib<=1.3.2,>=1.2.0 in /opt/hostedtoolcache/Python/3.9.18/x64/lib/python3.9/site-packages (from hyfi<2.0.0,>=1.34.0->bis-fetcher) (1.3.2)\r\n",
      "Requirement already satisfied: matplotlib<4.0.0,>=3.7.1 in /opt/hostedtoolcache/Python/3.9.18/x64/lib/python3.9/site-packages (from hyfi<2.0.0,>=1.34.0->bis-fetcher) (3.8.3)\r\n",
      "Requirement already satisfied: numpy<=1.26.2,>=1.26.0 in /opt/hostedtoolcache/Python/3.9.18/x64/lib/python3.9/site-packages (from hyfi<2.0.0,>=1.34.0->bis-fetcher) (1.26.2)\r\n",
      "Requirement already satisfied: pandas<=2.1.4,>=1.5.3 in /opt/hostedtoolcache/Python/3.9.18/x64/lib/python3.9/site-packages (from hyfi<2.0.0,>=1.34.0->bis-fetcher) (2.1.4)\r\n",
      "Requirement already satisfied: pathspec>=0.9.0 in /opt/hostedtoolcache/Python/3.9.18/x64/lib/python3.9/site-packages (from hyfi<2.0.0,>=1.34.0->bis-fetcher) (0.12.1)\r\n",
      "Requirement already satisfied: pyarrow<=14.0.1 in /opt/hostedtoolcache/Python/3.9.18/x64/lib/python3.9/site-packages (from hyfi<2.0.0,>=1.34.0->bis-fetcher) (14.0.1)\r\n",
      "Requirement already satisfied: pydantic<3.0.0,>=2.3.0 in /opt/hostedtoolcache/Python/3.9.18/x64/lib/python3.9/site-packages (from hyfi<2.0.0,>=1.34.0->bis-fetcher) (2.6.1)\r\n",
      "Requirement already satisfied: pydantic-settings<3.0.0,>=2.0.1 in /opt/hostedtoolcache/Python/3.9.18/x64/lib/python3.9/site-packages (from hyfi<2.0.0,>=1.34.0->bis-fetcher) (2.2.0)\r\n",
      "Requirement already satisfied: python-dotenv<2.0.0,>=1.0.0 in /opt/hostedtoolcache/Python/3.9.18/x64/lib/python3.9/site-packages (from hyfi<2.0.0,>=1.34.0->bis-fetcher) (1.0.1)\r\n",
      "Requirement already satisfied: requests<3.0.0,>=2.27.1 in /opt/hostedtoolcache/Python/3.9.18/x64/lib/python3.9/site-packages (from hyfi<2.0.0,>=1.34.0->bis-fetcher) (2.31.0)\r\n",
      "Requirement already satisfied: rich<14.0,>=12.1 in /opt/hostedtoolcache/Python/3.9.18/x64/lib/python3.9/site-packages (from hyfi<2.0.0,>=1.34.0->bis-fetcher) (13.7.0)\r\n",
      "Requirement already satisfied: scipy<2.0.0,>=1.10.1 in /opt/hostedtoolcache/Python/3.9.18/x64/lib/python3.9/site-packages (from hyfi<2.0.0,>=1.34.0->bis-fetcher) (1.12.0)\r\n",
      "Requirement already satisfied: tqdm<5.0.0,>=4.64.1 in /opt/hostedtoolcache/Python/3.9.18/x64/lib/python3.9/site-packages (from hyfi<2.0.0,>=1.34.0->bis-fetcher) (4.66.2)\r\n",
      "Requirement already satisfied: urllib3<3,>=1.26 in /opt/hostedtoolcache/Python/3.9.18/x64/lib/python3.9/site-packages (from urllib3[socks]<3,>=1.26->selenium<5.0.0,>=4.15.2->bis-fetcher) (2.2.1)\r\n",
      "Requirement already satisfied: trio~=0.17 in /opt/hostedtoolcache/Python/3.9.18/x64/lib/python3.9/site-packages (from selenium<5.0.0,>=4.15.2->bis-fetcher) (0.24.0)\r\n",
      "Requirement already satisfied: trio-websocket~=0.9 in /opt/hostedtoolcache/Python/3.9.18/x64/lib/python3.9/site-packages (from selenium<5.0.0,>=4.15.2->bis-fetcher) (0.11.1)\r\n",
      "Requirement already satisfied: certifi>=2021.10.8 in /opt/hostedtoolcache/Python/3.9.18/x64/lib/python3.9/site-packages (from selenium<5.0.0,>=4.15.2->bis-fetcher) (2024.2.2)\r\n",
      "Requirement already satisfied: typing_extensions>=4.9.0 in /opt/hostedtoolcache/Python/3.9.18/x64/lib/python3.9/site-packages (from selenium<5.0.0,>=4.15.2->bis-fetcher) (4.9.0)\r\n"
     ]
    },
    {
     "name": "stdout",
     "output_type": "stream",
     "text": [
      "Requirement already satisfied: pyarrow-hotfix in /opt/hostedtoolcache/Python/3.9.18/x64/lib/python3.9/site-packages (from datasets<=2.15.0,>=2.0.0->hyfi<2.0.0,>=1.34.0->bis-fetcher) (0.6)\r\n",
      "Requirement already satisfied: dill<0.3.8,>=0.3.0 in /opt/hostedtoolcache/Python/3.9.18/x64/lib/python3.9/site-packages (from datasets<=2.15.0,>=2.0.0->hyfi<2.0.0,>=1.34.0->bis-fetcher) (0.3.7)\r\n",
      "Requirement already satisfied: xxhash in /opt/hostedtoolcache/Python/3.9.18/x64/lib/python3.9/site-packages (from datasets<=2.15.0,>=2.0.0->hyfi<2.0.0,>=1.34.0->bis-fetcher) (3.4.1)\r\n",
      "Requirement already satisfied: multiprocess in /opt/hostedtoolcache/Python/3.9.18/x64/lib/python3.9/site-packages (from datasets<=2.15.0,>=2.0.0->hyfi<2.0.0,>=1.34.0->bis-fetcher) (0.70.15)\r\n",
      "Requirement already satisfied: fsspec<=2023.10.0,>=2023.1.0 in /opt/hostedtoolcache/Python/3.9.18/x64/lib/python3.9/site-packages (from fsspec[http]<=2023.10.0,>=2023.1.0->datasets<=2.15.0,>=2.0.0->hyfi<2.0.0,>=1.34.0->bis-fetcher) (2023.10.0)\r\n",
      "Requirement already satisfied: aiohttp in /opt/hostedtoolcache/Python/3.9.18/x64/lib/python3.9/site-packages (from datasets<=2.15.0,>=2.0.0->hyfi<2.0.0,>=1.34.0->bis-fetcher) (3.9.3)\r\n",
      "Requirement already satisfied: packaging in /opt/hostedtoolcache/Python/3.9.18/x64/lib/python3.9/site-packages (from datasets<=2.15.0,>=2.0.0->hyfi<2.0.0,>=1.34.0->bis-fetcher) (23.2)\r\n",
      "Requirement already satisfied: pyyaml>=5.1 in /opt/hostedtoolcache/Python/3.9.18/x64/lib/python3.9/site-packages (from datasets<=2.15.0,>=2.0.0->hyfi<2.0.0,>=1.34.0->bis-fetcher) (6.0.1)\r\n"
     ]
    },
    {
     "name": "stdout",
     "output_type": "stream",
     "text": [
      "Requirement already satisfied: six in /opt/hostedtoolcache/Python/3.9.18/x64/lib/python3.9/site-packages (from gdown<=4.7.1->hyfi<2.0.0,>=1.34.0->bis-fetcher) (1.16.0)\r\n",
      "Requirement already satisfied: beautifulsoup4 in /opt/hostedtoolcache/Python/3.9.18/x64/lib/python3.9/site-packages (from gdown<=4.7.1->hyfi<2.0.0,>=1.34.0->bis-fetcher) (4.12.3)\r\n"
     ]
    },
    {
     "name": "stdout",
     "output_type": "stream",
     "text": [
      "Requirement already satisfied: colorlog in /opt/hostedtoolcache/Python/3.9.18/x64/lib/python3.9/site-packages (from hydra-colorlog<2.0.0,>=1.2.0->hyfi<2.0.0,>=1.34.0->bis-fetcher) (6.8.2)\r\n",
      "Requirement already satisfied: omegaconf<2.4,>=2.2 in /opt/hostedtoolcache/Python/3.9.18/x64/lib/python3.9/site-packages (from hydra-core<2.0.0,>=1.3.2->hyfi<2.0.0,>=1.34.0->bis-fetcher) (2.3.0)\r\n",
      "Requirement already satisfied: antlr4-python3-runtime==4.9.* in /opt/hostedtoolcache/Python/3.9.18/x64/lib/python3.9/site-packages (from hydra-core<2.0.0,>=1.3.2->hyfi<2.0.0,>=1.34.0->bis-fetcher) (4.9.3)\r\n",
      "Requirement already satisfied: contourpy>=1.0.1 in /opt/hostedtoolcache/Python/3.9.18/x64/lib/python3.9/site-packages (from matplotlib<4.0.0,>=3.7.1->hyfi<2.0.0,>=1.34.0->bis-fetcher) (1.2.0)\r\n",
      "Requirement already satisfied: cycler>=0.10 in /opt/hostedtoolcache/Python/3.9.18/x64/lib/python3.9/site-packages (from matplotlib<4.0.0,>=3.7.1->hyfi<2.0.0,>=1.34.0->bis-fetcher) (0.12.1)\r\n",
      "Requirement already satisfied: fonttools>=4.22.0 in /opt/hostedtoolcache/Python/3.9.18/x64/lib/python3.9/site-packages (from matplotlib<4.0.0,>=3.7.1->hyfi<2.0.0,>=1.34.0->bis-fetcher) (4.49.0)\r\n",
      "Requirement already satisfied: kiwisolver>=1.3.1 in /opt/hostedtoolcache/Python/3.9.18/x64/lib/python3.9/site-packages (from matplotlib<4.0.0,>=3.7.1->hyfi<2.0.0,>=1.34.0->bis-fetcher) (1.4.5)\r\n",
      "Requirement already satisfied: pillow>=8 in /opt/hostedtoolcache/Python/3.9.18/x64/lib/python3.9/site-packages (from matplotlib<4.0.0,>=3.7.1->hyfi<2.0.0,>=1.34.0->bis-fetcher) (10.2.0)\r\n",
      "Requirement already satisfied: pyparsing>=2.3.1 in /opt/hostedtoolcache/Python/3.9.18/x64/lib/python3.9/site-packages (from matplotlib<4.0.0,>=3.7.1->hyfi<2.0.0,>=1.34.0->bis-fetcher) (3.1.1)\r\n",
      "Requirement already satisfied: python-dateutil>=2.7 in /opt/hostedtoolcache/Python/3.9.18/x64/lib/python3.9/site-packages (from matplotlib<4.0.0,>=3.7.1->hyfi<2.0.0,>=1.34.0->bis-fetcher) (2.8.2)\r\n",
      "Requirement already satisfied: importlib-resources>=3.2.0 in /opt/hostedtoolcache/Python/3.9.18/x64/lib/python3.9/site-packages (from matplotlib<4.0.0,>=3.7.1->hyfi<2.0.0,>=1.34.0->bis-fetcher) (6.1.1)\r\n"
     ]
    },
    {
     "name": "stdout",
     "output_type": "stream",
     "text": [
      "Requirement already satisfied: pytz>=2020.1 in /opt/hostedtoolcache/Python/3.9.18/x64/lib/python3.9/site-packages (from pandas<=2.1.4,>=1.5.3->hyfi<2.0.0,>=1.34.0->bis-fetcher) (2024.1)\r\n",
      "Requirement already satisfied: tzdata>=2022.1 in /opt/hostedtoolcache/Python/3.9.18/x64/lib/python3.9/site-packages (from pandas<=2.1.4,>=1.5.3->hyfi<2.0.0,>=1.34.0->bis-fetcher) (2024.1)\r\n",
      "Requirement already satisfied: annotated-types>=0.4.0 in /opt/hostedtoolcache/Python/3.9.18/x64/lib/python3.9/site-packages (from pydantic<3.0.0,>=2.3.0->hyfi<2.0.0,>=1.34.0->bis-fetcher) (0.6.0)\r\n",
      "Requirement already satisfied: pydantic-core==2.16.2 in /opt/hostedtoolcache/Python/3.9.18/x64/lib/python3.9/site-packages (from pydantic<3.0.0,>=2.3.0->hyfi<2.0.0,>=1.34.0->bis-fetcher) (2.16.2)\r\n"
     ]
    },
    {
     "name": "stdout",
     "output_type": "stream",
     "text": [
      "Requirement already satisfied: charset-normalizer<4,>=2 in /opt/hostedtoolcache/Python/3.9.18/x64/lib/python3.9/site-packages (from requests<3.0.0,>=2.27.1->hyfi<2.0.0,>=1.34.0->bis-fetcher) (3.3.2)\r\n",
      "Requirement already satisfied: idna<4,>=2.5 in /opt/hostedtoolcache/Python/3.9.18/x64/lib/python3.9/site-packages (from requests<3.0.0,>=2.27.1->hyfi<2.0.0,>=1.34.0->bis-fetcher) (3.6)\r\n",
      "Requirement already satisfied: markdown-it-py>=2.2.0 in /opt/hostedtoolcache/Python/3.9.18/x64/lib/python3.9/site-packages (from rich<14.0,>=12.1->hyfi<2.0.0,>=1.34.0->bis-fetcher) (3.0.0)\r\n",
      "Requirement already satisfied: pygments<3.0.0,>=2.13.0 in /opt/hostedtoolcache/Python/3.9.18/x64/lib/python3.9/site-packages (from rich<14.0,>=12.1->hyfi<2.0.0,>=1.34.0->bis-fetcher) (2.17.2)\r\n"
     ]
    },
    {
     "name": "stdout",
     "output_type": "stream",
     "text": [
      "Requirement already satisfied: attrs>=20.1.0 in /opt/hostedtoolcache/Python/3.9.18/x64/lib/python3.9/site-packages (from trio~=0.17->selenium<5.0.0,>=4.15.2->bis-fetcher) (23.2.0)\r\n",
      "Requirement already satisfied: sortedcontainers in /opt/hostedtoolcache/Python/3.9.18/x64/lib/python3.9/site-packages (from trio~=0.17->selenium<5.0.0,>=4.15.2->bis-fetcher) (2.4.0)\r\n",
      "Requirement already satisfied: outcome in /opt/hostedtoolcache/Python/3.9.18/x64/lib/python3.9/site-packages (from trio~=0.17->selenium<5.0.0,>=4.15.2->bis-fetcher) (1.3.0.post0)\r\n",
      "Requirement already satisfied: sniffio>=1.3.0 in /opt/hostedtoolcache/Python/3.9.18/x64/lib/python3.9/site-packages (from trio~=0.17->selenium<5.0.0,>=4.15.2->bis-fetcher) (1.3.0)\r\n",
      "Requirement already satisfied: exceptiongroup in /opt/hostedtoolcache/Python/3.9.18/x64/lib/python3.9/site-packages (from trio~=0.17->selenium<5.0.0,>=4.15.2->bis-fetcher) (1.2.0)\r\n",
      "Requirement already satisfied: wsproto>=0.14 in /opt/hostedtoolcache/Python/3.9.18/x64/lib/python3.9/site-packages (from trio-websocket~=0.9->selenium<5.0.0,>=4.15.2->bis-fetcher) (1.2.0)\r\n",
      "Requirement already satisfied: pysocks!=1.5.7,<2.0,>=1.5.6 in /opt/hostedtoolcache/Python/3.9.18/x64/lib/python3.9/site-packages (from urllib3[socks]<3,>=1.26->selenium<5.0.0,>=4.15.2->bis-fetcher) (1.7.1)\r\n"
     ]
    },
    {
     "name": "stdout",
     "output_type": "stream",
     "text": [
      "Requirement already satisfied: aiosignal>=1.1.2 in /opt/hostedtoolcache/Python/3.9.18/x64/lib/python3.9/site-packages (from aiohttp->datasets<=2.15.0,>=2.0.0->hyfi<2.0.0,>=1.34.0->bis-fetcher) (1.3.1)\r\n",
      "Requirement already satisfied: frozenlist>=1.1.1 in /opt/hostedtoolcache/Python/3.9.18/x64/lib/python3.9/site-packages (from aiohttp->datasets<=2.15.0,>=2.0.0->hyfi<2.0.0,>=1.34.0->bis-fetcher) (1.4.1)\r\n",
      "Requirement already satisfied: multidict<7.0,>=4.5 in /opt/hostedtoolcache/Python/3.9.18/x64/lib/python3.9/site-packages (from aiohttp->datasets<=2.15.0,>=2.0.0->hyfi<2.0.0,>=1.34.0->bis-fetcher) (6.0.5)\r\n",
      "Requirement already satisfied: yarl<2.0,>=1.0 in /opt/hostedtoolcache/Python/3.9.18/x64/lib/python3.9/site-packages (from aiohttp->datasets<=2.15.0,>=2.0.0->hyfi<2.0.0,>=1.34.0->bis-fetcher) (1.9.4)\r\n",
      "Requirement already satisfied: async-timeout<5.0,>=4.0 in /opt/hostedtoolcache/Python/3.9.18/x64/lib/python3.9/site-packages (from aiohttp->datasets<=2.15.0,>=2.0.0->hyfi<2.0.0,>=1.34.0->bis-fetcher) (4.0.3)\r\n"
     ]
    },
    {
     "name": "stdout",
     "output_type": "stream",
     "text": [
      "Requirement already satisfied: zipp>=3.1.0 in /opt/hostedtoolcache/Python/3.9.18/x64/lib/python3.9/site-packages (from importlib-resources>=3.2.0->matplotlib<4.0.0,>=3.7.1->hyfi<2.0.0,>=1.34.0->bis-fetcher) (3.17.0)\r\n"
     ]
    },
    {
     "name": "stdout",
     "output_type": "stream",
     "text": [
      "Requirement already satisfied: mdurl~=0.1 in /opt/hostedtoolcache/Python/3.9.18/x64/lib/python3.9/site-packages (from markdown-it-py>=2.2.0->rich<14.0,>=12.1->hyfi<2.0.0,>=1.34.0->bis-fetcher) (0.1.2)\r\n"
     ]
    },
    {
     "name": "stdout",
     "output_type": "stream",
     "text": [
      "Requirement already satisfied: h11<1,>=0.9.0 in /opt/hostedtoolcache/Python/3.9.18/x64/lib/python3.9/site-packages (from wsproto>=0.14->trio-websocket~=0.9->selenium<5.0.0,>=4.15.2->bis-fetcher) (0.14.0)\r\n"
     ]
    },
    {
     "name": "stdout",
     "output_type": "stream",
     "text": [
      "Requirement already satisfied: soupsieve>1.2 in /opt/hostedtoolcache/Python/3.9.18/x64/lib/python3.9/site-packages (from beautifulsoup4->gdown<=4.7.1->hyfi<2.0.0,>=1.34.0->bis-fetcher) (2.5)\r\n"
     ]
    },
    {
     "name": "stdout",
     "output_type": "stream",
     "text": [
      "\r\n",
      "\u001b[1m[\u001b[0m\u001b[34;49mnotice\u001b[0m\u001b[1;39;49m]\u001b[0m\u001b[39;49m A new release of pip is available: \u001b[0m\u001b[31;49m23.0.1\u001b[0m\u001b[39;49m -> \u001b[0m\u001b[32;49m24.0\u001b[0m\r\n",
      "\u001b[1m[\u001b[0m\u001b[34;49mnotice\u001b[0m\u001b[1;39;49m]\u001b[0m\u001b[39;49m To update, run: \u001b[0m\u001b[32;49mpip install --upgrade pip\u001b[0m\r\n"
     ]
    },
    {
     "name": "stdout",
     "output_type": "stream",
     "text": [
      "Note: you may need to restart the kernel to use updated packages.\n"
     ]
    }
   ],
   "source": [
    "pip install bis-fetcher"
   ]
  },
  {
   "cell_type": "markdown",
   "id": "48d20c13",
   "metadata": {},
   "source": [
    "## Usage\n",
    "\n",
    "```python\n",
    "from bis_fetcher import get_version\n",
    "\n",
    "print(get_version())\n",
    "```"
   ]
  }
 ],
 "metadata": {
  "jupytext": {
   "cell_metadata_filter": "-all",
   "formats": "md:myst",
   "text_representation": {
    "extension": ".md",
    "format_name": "myst",
    "format_version": 0.13,
    "jupytext_version": "1.11.5"
   }
  },
  "kernelspec": {
   "display_name": "Python 3",
   "language": "python",
   "name": "python3"
  },
  "language_info": {
   "codemirror_mode": {
    "name": "ipython",
    "version": 3
   },
   "file_extension": ".py",
   "mimetype": "text/x-python",
   "name": "python",
   "nbconvert_exporter": "python",
   "pygments_lexer": "ipython3",
   "version": "3.9.18"
  },
  "source_map": [
   14,
   24,
   26
  ]
 },
 "nbformat": 4,
 "nbformat_minor": 5
}